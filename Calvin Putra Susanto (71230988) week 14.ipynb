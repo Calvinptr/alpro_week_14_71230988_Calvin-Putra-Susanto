{
 "cells": [
  {
   "cell_type": "code",
   "execution_count": 1,
   "id": "d703b2e3",
   "metadata": {},
   "outputs": [
    {
     "name": "stdout",
     "output_type": "stream",
     "text": [
      "bukan prima\n",
      "prima\n"
     ]
    }
   ],
   "source": [
    "# latihan 13.1\n",
    "def prima(n, pembagi = None):\n",
    "    if n < 2:\n",
    "        return (\"bukan prima\")\n",
    "    if n % 2 == 0:\n",
    "        return (\"bukan prima\")\n",
    "    if pembagi == 1:\n",
    "        return (\"prima\")\n",
    "    if pembagi == None:\n",
    "        pembagi = n - 1\n",
    "    return prima(n, pembagi - 1)\n",
    "print(prima(10))\n",
    "print(prima(5)) "
   ]
  },
  {
   "cell_type": "code",
   "execution_count": 2,
   "id": "8103de53",
   "metadata": {},
   "outputs": [
    {
     "name": "stdout",
     "output_type": "stream",
     "text": [
      "palindrom\n",
      "palindrom\n"
     ]
    }
   ],
   "source": [
    "# lathian 13.2\n",
    "def palindrom(kalimat):\n",
    "    if len(kalimat) <= 1:\n",
    "        return(\"palindrom\")\n",
    "    if kalimat[0] == kalimat[-1]:\n",
    "        return palindrom(kalimat[1:-1])\n",
    "    else:\n",
    "        return(\"bukan palindrom\")\n",
    "print(palindrom(\"kasurrusak\"))\n",
    "print(palindrom(\"tidaktaatkadit\"))"
   ]
  },
  {
   "cell_type": "code",
   "execution_count": 3,
   "id": "c1189c1d",
   "metadata": {},
   "outputs": [
    {
     "name": "stdout",
     "output_type": "stream",
     "text": [
      "7\n",
      "33\n"
     ]
    }
   ],
   "source": [
    "# latihan 13.3\n",
    "def hitung_ganjil(x):\n",
    "    if x == 1:\n",
    "        return 1\n",
    "    elif x == 2:\n",
    "        return 2\n",
    "    else:\n",
    "        return ( 2 ** ( x - 1 ) + 1 )+ hitung_ganjil( x - 1 )\n",
    "print(hitung_ganjil(3))\n",
    "print(hitung_ganjil(5))"
   ]
  },
  {
   "cell_type": "code",
   "execution_count": 4,
   "id": "a36c8c70",
   "metadata": {},
   "outputs": [
    {
     "name": "stdout",
     "output_type": "stream",
     "text": [
      "3\n",
      "27\n"
     ]
    }
   ],
   "source": [
    "# latihan 13.4\n",
    "def jumlah_angka(angka):\n",
    "    if angka < 10:\n",
    "        return angka \n",
    "    else:\n",
    "        return angka % 10 + jumlah_angka(angka//10)\n",
    "print(jumlah_angka(111))\n",
    "print(jumlah_angka(999)) "
   ]
  },
  {
   "cell_type": "code",
   "execution_count": 5,
   "id": "08775f44",
   "metadata": {},
   "outputs": [
    {
     "name": "stdout",
     "output_type": "stream",
     "text": [
      "5\n",
      "10\n"
     ]
    }
   ],
   "source": [
    "def kombinasi(n,r):\n",
    "    if r == 0:\n",
    "        return 1\n",
    "    if r == n:\n",
    "        return 1\n",
    "    if n == 0:\n",
    "        return 0\n",
    "    if n == 1:\n",
    "        return 1\n",
    "    else:\n",
    "        return kombinasi (n-1, r-1) + kombinasi (n-1, r)\n",
    "print(kombinasi(5,1))\n",
    "print(kombinasi(5,2))"
   ]
  },
  {
   "cell_type": "code",
   "execution_count": null,
   "id": "d7e14554",
   "metadata": {},
   "outputs": [],
   "source": []
  }
 ],
 "metadata": {
  "kernelspec": {
   "display_name": "Python 3 (ipykernel)",
   "language": "python",
   "name": "python3"
  },
  "language_info": {
   "codemirror_mode": {
    "name": "ipython",
    "version": 3
   },
   "file_extension": ".py",
   "mimetype": "text/x-python",
   "name": "python",
   "nbconvert_exporter": "python",
   "pygments_lexer": "ipython3",
   "version": "3.11.5"
  }
 },
 "nbformat": 4,
 "nbformat_minor": 5
}
